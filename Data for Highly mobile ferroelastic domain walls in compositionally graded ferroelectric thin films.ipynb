{
 "cells": [
  {
   "cell_type": "markdown",
   "metadata": {},
   "source": [
    "# Highly mobile ferroelastic domain walls in compositionally graded ferroelectric thin films\n",
    "### J. C. Agar, A. R. Damodaran, M. B. Okatan, J. Kacher, C. Gammer, R. K. Vasudevan, S. Pandya, L. R. Dedon, R. V. K. Mangalam, G. A. Velarde, S. Jesse, N. Balke, A. M. Minor, S. V. Kalinin & L. W. Martin\n",
    "#### Nature Materials volume 15, pages 549–556 (2016)\n",
    "\n",
    "#### DOI: 10.1038/nmat4567\n",
    "\n",
    "https://www.nature.com/articles/nmat4567#article-info\n",
    "\n",
    "This is a Jupyter notebook that provides some information to enable the loading and reading of the raw data"
   ]
  },
  {
   "cell_type": "markdown",
   "metadata": {},
   "source": [
    "# Import Packages"
   ]
  },
  {
   "cell_type": "code",
   "execution_count": 2,
   "metadata": {},
   "outputs": [],
   "source": [
    "import matplotlib.pyplot as plt\n",
    "import h5py\n",
    "import numpy as np\n",
    "import input_output as io"
   ]
  },
  {
   "cell_type": "markdown",
   "metadata": {},
   "source": [
    "# Downloads the Data"
   ]
  },
  {
   "cell_type": "code",
   "execution_count": 3,
   "metadata": {},
   "outputs": [
    {
     "name": "stdout",
     "output_type": "stream",
     "text": [
      "downloading data\n",
      "...100%, 1598 MB, 1163 KB/s, 1406 seconds passedextracting Data_Zip.zip to ./\n"
     ]
    }
   ],
   "source": [
    "# note these are big files 50 gb\n",
    "download_data = True\n",
    "\n",
    "url = 'https://zenodo.org/record/3407773/files/Data_Zip.zip?download=1'\n",
    "filename = 'Data_Zip.zip'\n",
    "save_path = './'\n",
    "\n",
    "io.download_and_unzip(filename, url, save_path, download_data)"
   ]
  },
  {
   "cell_type": "code",
   "execution_count": 6,
   "metadata": {},
   "outputs": [
    {
     "name": "stdout",
     "output_type": "stream",
     "text": [
      "Data for Highly mobile ferroelastic domain walls in compositionally graded ferroelectric thin films.ipynb\r\n",
      "LICENSE\r\n",
      "README.md\r\n",
      "\u001b[34m__pycache__\u001b[m\u001b[m/\r\n",
      "input_output.py\r\n"
     ]
    }
   ],
   "source": [
    "ls"
   ]
  },
  {
   "cell_type": "markdown",
   "metadata": {},
   "source": [
    "# Loads the SHO Fit Results for PbZr<sub>0.2</sub>Ti<sub>0.8</sub>O<sub>3</sub>"
   ]
  },
  {
   "cell_type": "code",
   "execution_count": null,
   "metadata": {},
   "outputs": [],
   "source": [
    "data = h5py.File('20_80_PZT/20_80_SHO fits.mat', 'r')"
   ]
  },
  {
   "cell_type": "markdown",
   "metadata": {},
   "source": [
    "### Function for printing out attributes"
   ]
  },
  {
   "cell_type": "code",
   "execution_count": null,
   "metadata": {},
   "outputs": [],
   "source": [
    "def print_attrs(name, obj):\n",
    "    print(name)\n",
    "    for key, val in obj.attrs.items():\n",
    "        print(key)"
   ]
  },
  {
   "cell_type": "markdown",
   "metadata": {},
   "source": [
    "# Explanation of Data\n",
    "\n",
    "\n",
    "This provides the data for fit with using a simple-harmonic osscilator model\n",
    "\n",
    "In this data piezoresponse loops were measured in the on state `infield` and off state `outoffield` the data uses in the manuscript was the last loop cycle.\n",
    "\n",
    "In this data, the most important information is: \n",
    "Amplitude: `A`\n",
    "Phase: `phi`\n",
    "resonance frequency: `w`\n",
    "quality factor of cantilever resonance: `Q`"
   ]
  },
  {
   "cell_type": "code",
   "execution_count": null,
   "metadata": {},
   "outputs": [],
   "source": [
    "data.visititems(print_attrs)"
   ]
  },
  {
   "cell_type": "markdown",
   "metadata": {},
   "source": [
    "# Plotting an example Amplitude Image\n",
    "note that the cantilever changed its shape aver about 30 lines giving rise to a distribution shift in the data"
   ]
  },
  {
   "cell_type": "code",
   "execution_count": null,
   "metadata": {},
   "outputs": [],
   "source": [
    "plt.imshow(data['Data']['outoffield_2']['A'][40,0,0])"
   ]
  },
  {
   "cell_type": "markdown",
   "metadata": {},
   "source": [
    "# Loads the Loopfit Results for the PbZr<sub>0.2</sub>Ti<sub>0.8</sub>O<sub>3</sub>"
   ]
  },
  {
   "cell_type": "code",
   "execution_count": null,
   "metadata": {},
   "outputs": [],
   "source": [
    "data = h5py.File('20_80_PZT/20_80_loop_fits.mat', 'r')"
   ]
  },
  {
   "cell_type": "markdown",
   "metadata": {},
   "source": [
    "### Extracts the voltage from the data \n",
    "\n",
    "Note this was not how the data was actually measured. The measurement was in the shape of a classic bipolar triangular waveform. "
   ]
  },
  {
   "cell_type": "code",
   "execution_count": null,
   "metadata": {},
   "outputs": [],
   "source": [
    "voltage = data.get(data['alldata2'][0][8]).value"
   ]
  },
  {
   "cell_type": "code",
   "execution_count": null,
   "metadata": {},
   "outputs": [],
   "source": [
    "plt.plot(voltage.reshape(-1))"
   ]
  },
  {
   "cell_type": "markdown",
   "metadata": {},
   "source": [
    "# Plots and Example Loop Fitted Result\n",
    "\n",
    "## Description of the loop shape parameters are:\n",
    "\n",
    "Note the first index is the loop cycle and the second value is the fitting value (this is different than how it was done in matlab)\n",
    "\n",
    "In this dataset only the `offfield` results are provided\n",
    "#### unfolddata{1,i}=Acosrot\n",
    "#### unfolddata{2,i}=Asinrot\n",
    "#### unfolddata{3,i}=some extra data for GUI\n",
    "#### unfolddata{4,i}=Acosarea\n",
    "#### unfolddata{5,i}=Asinarea\n",
    "#### unfolddata{6,i}=optrotang\n",
    "#### unfolddata{7,i}=rAcosAtot\n",
    "#### unfolddata{8,i}=AcoscentV\n",
    "#### unfolddata{9,i}=AcoscentAc\n",
    "#### unfolddata{10,i}=Acostwist\n",
    "#### unfolddata{11,i}=Asintwist\n",
    "#### unfolddata{12,i}=Acosareafit\n",
    "#### unfolddata{13,i}=Acosareadif\n",
    "#### unfolddata{14,i}=Acosheight\n",
    "#### unfolddata{15,i}=Acoswidth\n",
    "#### unfolddata{16,i}=AcoscentAcfit\n",
    "#### unfolddata{17,i}=AcoscentVfit\n",
    "#### unfolddata{18,i}=Acosposnuc\n",
    "#### unfolddata{19,i}=Acosnegnuc\n",
    "#### unfolddata{20,i}=a1\n",
    "#### unfolddata{21,i}=a2\n",
    "#### unfolddata{22,i}=Au\n",
    "#### unfolddata{23,i}=Al\n",
    "#### unfolddata{24,i}=a3\n",
    "#### unfolddata{25,i}=b1\n",
    "#### unfolddata{26,i}=b2\n",
    "#### unfolddata{27,i}=b3\n",
    "#### unfolddata{28,i}=b4\n",
    "#### unfolddata{29,i}=b5\n",
    "#### unfolddata{30,i}=b6\n",
    "#### unfolddata{31,i}=b7\n",
    "#### unfolddata{32,i}=b8#### "
   ]
  },
  {
   "cell_type": "code",
   "execution_count": null,
   "metadata": {},
   "outputs": [],
   "source": [
    "plt.imshow(data.get(data['unfolddata'][1][3]).value)"
   ]
  },
  {
   "cell_type": "code",
   "execution_count": null,
   "metadata": {
    "scrolled": true
   },
   "outputs": [],
   "source": [
    "plt.plot(voltage.squeeze(),data.get(data['unfolddata'][1][0]).value[:,:,:,10,10].squeeze())"
   ]
  },
  {
   "cell_type": "markdown",
   "metadata": {},
   "source": [
    "# Loads the SHO Fit Results for Graded"
   ]
  },
  {
   "cell_type": "code",
   "execution_count": null,
   "metadata": {},
   "outputs": [],
   "source": [
    "data = h5py.File('Graded_Data/Graded_SHO_Fit.mat', 'r')"
   ]
  },
  {
   "cell_type": "markdown",
   "metadata": {},
   "source": [
    "### Function for printing out attributes"
   ]
  },
  {
   "cell_type": "code",
   "execution_count": null,
   "metadata": {},
   "outputs": [],
   "source": [
    "def print_attrs(name, obj):\n",
    "    print(name)\n",
    "    for key, val in obj.attrs.items():\n",
    "        print(key)"
   ]
  },
  {
   "cell_type": "markdown",
   "metadata": {},
   "source": [
    "# Explanation of Data\n",
    "\n",
    "\n",
    "This provides the data for fit with using a simple-harmonic osscilator model\n",
    "\n",
    "In this data piezoresponse loops were measured in the on state `infield` and off state `outoffield` the data uses in the manuscript was the last loop cycle.\n",
    "\n",
    "In this data, the most important information is: \n",
    "Amplitude: `A`\n",
    "Phase: `phi`\n",
    "resonance frequency: `w`\n",
    "quality factor of cantilever resonance: `Q`"
   ]
  },
  {
   "cell_type": "code",
   "execution_count": null,
   "metadata": {},
   "outputs": [],
   "source": [
    "data.visititems(print_attrs)"
   ]
  },
  {
   "cell_type": "markdown",
   "metadata": {},
   "source": [
    "# Plotting an example Amplitude Image\n",
    "note that the cantilever changed its shape aver about 30 lines giving rise to a distribution shift in the data"
   ]
  },
  {
   "cell_type": "code",
   "execution_count": null,
   "metadata": {},
   "outputs": [],
   "source": [
    "plt.imshow(data['Data']['outoffield_2']['A'][40,0,0])"
   ]
  },
  {
   "cell_type": "markdown",
   "metadata": {},
   "source": [
    "# Loads the Loopfit Results for the Graded"
   ]
  },
  {
   "cell_type": "code",
   "execution_count": null,
   "metadata": {},
   "outputs": [],
   "source": [
    "data = h5py.File('Graded_Data/Graded_Loop_Fit_results.mat', 'r')"
   ]
  },
  {
   "cell_type": "markdown",
   "metadata": {},
   "source": [
    "### Extracts the voltage from the data \n",
    "\n",
    "Note this was not how the data was actually measured. The measurement was in the shape of a classic bipolar triangular waveform. "
   ]
  },
  {
   "cell_type": "code",
   "execution_count": null,
   "metadata": {},
   "outputs": [],
   "source": [
    "voltage = data.get(data['alldata2'][0][8]).value"
   ]
  },
  {
   "cell_type": "code",
   "execution_count": null,
   "metadata": {},
   "outputs": [],
   "source": [
    "plt.plot(voltage.reshape(-1))"
   ]
  },
  {
   "cell_type": "markdown",
   "metadata": {},
   "source": [
    "# Plots and Example Loop Fitted Result\n",
    "\n",
    "## Description of the loop shape parameters are:\n",
    "\n",
    "Note the first index is the loop cycle and the second value is the fitting value (this is different than how it was done in matlab)\n",
    "\n",
    "The first index `[0]` should be the second on-field loop\n",
    "\n",
    "#### unfolddata{1,i}=Acosrot\n",
    "#### unfolddata{2,i}=Asinrot\n",
    "#### unfolddata{3,i}=some extra data for GUI\n",
    "#### unfolddata{4,i}=Acosarea\n",
    "#### unfolddata{5,i}=Asinarea\n",
    "#### unfolddata{6,i}=optrotang\n",
    "#### unfolddata{7,i}=rAcosAtot\n",
    "#### unfolddata{8,i}=AcoscentV\n",
    "#### unfolddata{9,i}=AcoscentAc\n",
    "#### unfolddata{10,i}=Acostwist\n",
    "#### unfolddata{11,i}=Asintwist\n",
    "#### unfolddata{12,i}=Acosareafit\n",
    "#### unfolddata{13,i}=Acosareadif\n",
    "#### unfolddata{14,i}=Acosheight\n",
    "#### unfolddata{15,i}=Acoswidth\n",
    "#### unfolddata{16,i}=AcoscentAcfit\n",
    "#### unfolddata{17,i}=AcoscentVfit\n",
    "#### unfolddata{18,i}=Acosposnuc\n",
    "#### unfolddata{19,i}=Acosnegnuc\n",
    "#### unfolddata{20,i}=a1\n",
    "#### unfolddata{21,i}=a2\n",
    "#### unfolddata{22,i}=Au\n",
    "#### unfolddata{23,i}=Al\n",
    "#### unfolddata{24,i}=a3\n",
    "#### unfolddata{25,i}=b1\n",
    "#### unfolddata{26,i}=b2\n",
    "#### unfolddata{27,i}=b3\n",
    "#### unfolddata{28,i}=b4\n",
    "#### unfolddata{29,i}=b5\n",
    "#### unfolddata{30,i}=b6\n",
    "#### unfolddata{31,i}=b7\n",
    "#### unfolddata{32,i}=b8#### "
   ]
  },
  {
   "cell_type": "code",
   "execution_count": null,
   "metadata": {},
   "outputs": [],
   "source": [
    "plt.imshow(data.get(data['unfolddata'][0][3]).value)"
   ]
  },
  {
   "cell_type": "code",
   "execution_count": null,
   "metadata": {
    "scrolled": true
   },
   "outputs": [],
   "source": [
    "plt.plot(voltage.squeeze(),data.get(data['unfolddata'][1][0]).value[:,:,:,10,10].squeeze())"
   ]
  },
  {
   "cell_type": "code",
   "execution_count": null,
   "metadata": {},
   "outputs": [],
   "source": []
  }
 ],
 "metadata": {
  "kernelspec": {
   "display_name": "Python 3",
   "language": "python",
   "name": "python3"
  },
  "language_info": {
   "codemirror_mode": {
    "name": "ipython",
    "version": 3
   },
   "file_extension": ".py",
   "mimetype": "text/x-python",
   "name": "python",
   "nbconvert_exporter": "python",
   "pygments_lexer": "ipython3",
   "version": "3.7.3"
  }
 },
 "nbformat": 4,
 "nbformat_minor": 2
}
